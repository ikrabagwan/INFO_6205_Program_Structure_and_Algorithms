{
 "cells": [
  {
   "cell_type": "markdown",
   "id": "9594eb32",
   "metadata": {},
   "source": [
    "<b>\n",
    "    <h1><center>Dynamic Programming</center></h1>\n",
    "</b>"
   ]
  },
  {
   "cell_type": "markdown",
   "id": "3dccce38",
   "metadata": {},
   "source": [
    "<em><font size=\"5\">`Dynamic programming amounts to breaking down an optimization problem into simpler sub-problems, and storing the solution to each sub-problem so that each sub-problem is only solved once.`</font></em>"
   ]
  },
  {
   "cell_type": "markdown",
   "id": "eca9d1bc",
   "metadata": {},
   "source": [
    "***\n",
    "DP is a useful technique for optimization problems, those problems that seek the maximum or minimum solution given certain constraints, because it looks through all possible sub-problems and never recomputes the solution to any sub-problem. This guarantees correctness and efficiency, which we cannot say of most techniques used to solve or approximate algorithms. This alone makes DP special.\n",
    "***"
   ]
  },
  {
   "cell_type": "markdown",
   "id": "7c3bbb98",
   "metadata": {},
   "source": [
    "<b>How to identify a Dp problem:</b>\n",
    "\n",
    "`We need to break up a problem into a series of overlapping sub-problems, and build up solutions to larger and larger sub-problems. If you are given a problem, which can be broken down into smaller sub-problems, and these smaller sub-problems can still be broken into smaller ones - and if you manage to find out that there are some over-lappping sub-problems, then you've encountered a DP problem.`"
   ]
  },
  {
   "cell_type": "markdown",
   "id": "519839c5",
   "metadata": {},
   "source": [
    "<b>Some famous Dynamic Programming algorithms are:</b>\n",
    "\n",
    "<em>Unix diff</em> for comparing two files\n",
    "\n",
    "<em>Bellman-Ford </em>for shortest path routing in networks\n",
    "\n",
    "<em>TeX </em>the ancestor of LaTeX\n",
    "\n",
    "<em>WASP - Winning and Score Predictor</em>"
   ]
  },
  {
   "cell_type": "markdown",
   "id": "328b10ac",
   "metadata": {},
   "source": [
    "Dynamic Programming's main notion is to prevent repeating labor by remembering partial results, and this concept is used in a variety of real-world situations.\n",
    "\n",
    "Dynamic Programming is a sophisticated programming technique that allows you to solve a variety of problems in O(n2) or O(n3) time, when a naive approach would require exponential time."
   ]
  },
  {
   "cell_type": "markdown",
   "id": "4ad9e193",
   "metadata": {},
   "source": [
    "***\n",
    "Jonathan Paulson explains Dynamic Programming in his amazing Quora answer [here](http://www.quora.com/How-should-I-explain-dynamic-programming-to-a-4-year-old/answer/Jonathan-Paulson).\n",
    "\n",
    "Writes down \"1+1+1+1+1+1+1+1 =\" on a sheet of paper.\n",
    "\n",
    "\"What's that equal to?\"\n",
    "\n",
    "Counting \"Eight!\"\n",
    "\n",
    "Writes down another \"1+\" on the left.\n",
    "\n",
    "\"What about that?\"\n",
    "\n",
    "\"Nine!\" \" How'd you know it was nine so fast?\"\n",
    "\n",
    "\"You just added one more!\"\n",
    "\n",
    "\"So you didn't need to recount because you remembered there were eight! Dynamic Programming is just a fancy way to say remembering stuff to save time later!\"\n",
    "***"
   ]
  },
  {
   "cell_type": "markdown",
   "id": "4313b583",
   "metadata": {},
   "source": [
    " Following are the two main properties of a problem that suggests that the given problem can be solved using Dynamic programming."
   ]
  },
  {
   "cell_type": "markdown",
   "id": "fbd12a1e",
   "metadata": {},
   "source": [
    "\n",
    "1) Overlapping Subproblems\n",
    "\n",
    "2) Optimal Substructure\n",
    "\n",
    "***\n",
    "\n",
    "Lets discuss the first property (Overlapping Subproblems) in detail"
   ]
  },
  {
   "cell_type": "markdown",
   "id": "729bff78",
   "metadata": {},
   "source": [
    "1) Overlapping Subproblems: \n",
    "\n",
    "Like Divide and Conquer, Dynamic Programming combines solutions to sub-problems. When solutions to the same subproblems are required repeatedly, Dynamic Programming is used. Computed solutions to subproblems are kept in a table in dynamic programming so that they don't have to be recomputed. So Dynamic Programming isn't beneficial when there aren't any common (overlapping) subproblems because it's pointless to save solutions that won't be used again. \n",
    "\n",
    "Binary Search, for example, does not have any common subproblems. Consider the following recursive program for Fibonacci Numbers. There are numerous subproblems that are solved repeatedly."
   ]
  },
  {
   "cell_type": "code",
   "execution_count": 2,
   "id": "f508f077",
   "metadata": {},
   "outputs": [],
   "source": [
    "# a simple recursive program for Fibonacci numbers\n",
    "def fib(n):\n",
    "    if n <= 1:\n",
    "        return n\n",
    "\n",
    "    return fib(n - 1) + fib(n - 2)\n"
   ]
  },
  {
   "cell_type": "markdown",
   "id": "51f04d43",
   "metadata": {},
   "source": [
    "                                                      fib(5)\n",
    "                                                 /             \\\n",
    "                                           fib(4)                fib(3)\n",
    "                                         /      \\                /     \\\n",
    "                                     fib(3)      fib(2)         fib(2)    fib(1)\n",
    "                                    /     \\        /    \\       /    \\\n",
    "                              fib(2)   fib(1)  fib(1) fib(0) fib(1) fib(0)\n",
    "                              /    \\\n",
    "                            fib(1) fib(0)\n",
    "                            "
   ]
  },
  {
   "cell_type": "markdown",
   "id": "77190b92",
   "metadata": {},
   "source": [
    "The function fib(3) is called twice, as can be seen. We could have utilised the old stored value of fib(3) instead of computing it over we can reuse the value of fib(3). \n",
    "\n",
    "\n",
    "\n",
    "\n",
    "\n",
    "![dp-fibonocci](./img/fibonacci-recursion.gif)\n",
    "\n",
    "***\n",
    "\n",
    "\n",
    "There are two methods for storing values so that they can be reused:\n",
    "\n",
    "a) Memoization (Top Down) \n",
    "\n",
    "b) Tabulation (Bottom Up)\n"
   ]
  },
  {
   "cell_type": "markdown",
   "id": "4e4cc3ac",
   "metadata": {},
   "source": [
    "<blockquote>\n",
    "a) Memoization (Top Down): \n",
    "\n",
    "A memoized program for a problem is similar to the recursive version, with the modification that it looks for solutions in a lookup table before computing them. All of the initial values in a lookup array are NIL. We go to the lookup table initially if we require a solution to a subproblem. We return the precomputed value if it exists; otherwise, we calculate the value and save the result in the lookup table so that it can be reused later.\n",
    "</blockquote>\n",
    "\n",
    "The memorized version of the nth Fibonacci Number is shown below:"
   ]
  },
  {
   "cell_type": "code",
   "execution_count": 3,
   "id": "7b4d8a08",
   "metadata": {},
   "outputs": [
    {
     "name": "stdout",
     "output_type": "stream",
     "text": [
      "Fibonacci Number is  5702887\n"
     ]
    }
   ],
   "source": [
    "# a program for Memoized version of nth Fibonacci number\n",
    "\n",
    "# function to calculate nth Fibonacci number\n",
    "\n",
    "\n",
    "def fib(n, lookup):\n",
    "\n",
    "\t# base case\n",
    "\tif n <= 1:\n",
    "\t\tlookup[n] = n\n",
    "\n",
    "\t# if the value is not calculated previously then calculate it\n",
    "\tif lookup[n] is None:\n",
    "\t\tlookup[n] = fib(n-1, lookup) + fib(n-2, lookup)\n",
    "\n",
    "\t# return the value corresponding to that value of n\n",
    "\treturn lookup[n]\n",
    "# end of function\n",
    "\n",
    "# Driver program to test the above function\n",
    "\n",
    "\n",
    "def main():\n",
    "\tn = 34\n",
    "\t# Declaration of lookup table\n",
    "\t# Handles till n = 100\n",
    "\tlookup = [None] * 101\n",
    "\tprint (\"Fibonacci Number is \", fib(n, lookup))\n",
    "\n",
    "\n",
    "if __name__ == \"__main__\":\n",
    "\tmain()\n",
    "\n",
    "# This code is contributed by Nikhil Kumar Singh(nickzuck_007)\n"
   ]
  },
  {
   "cell_type": "markdown",
   "id": "1f77cb79",
   "metadata": {},
   "source": [
    "<blockquote>\n",
    "b) Tabulation (Bottom Up):\n",
    "\n",
    "The tabulated program for a given problem constructs a table from the bottom up and returns the table's last item. For example, we compute fib(0) first, then fib(1), fib(2), fib(3), and so on for the same Fibonacci number. As a result, we're actually constructing subproblem solutions from the bottom up.\n",
    "\n",
    "</blockquote>\n",
    "\n",
    "The tabular version of the nth Fibonacci Number is shown below."
   ]
  },
  {
   "cell_type": "code",
   "execution_count": 4,
   "id": "b93fa58c",
   "metadata": {},
   "outputs": [
    {
     "name": "stdout",
     "output_type": "stream",
     "text": [
      "Fibonacci number is  34\n"
     ]
    }
   ],
   "source": [
    "# Python program Tabulated (bottom up) version\n",
    "def fib(n):\n",
    "\n",
    "\t# array declaration\n",
    "\tf = [0] * (n + 1)\n",
    "\n",
    "\t# base case assignment\n",
    "\tf[1] = 1\n",
    "\n",
    "\t# calculating the fibonacci and storing the values\n",
    "\tfor i in range(2, n + 1):\n",
    "\t\tf[i] = f[i - 1] + f[i - 2]\n",
    "\treturn f[n]\n",
    "\n",
    "# Driver program to test the above function\n",
    "\n",
    "\n",
    "def main():\n",
    "\tn = 9\n",
    "\tprint (\"Fibonacci number is \", fib(n))\n",
    "\n",
    "\n",
    "if __name__ == \"__main__\":\n",
    "\tmain()\n"
   ]
  },
  {
   "cell_type": "markdown",
   "id": "6200cd50",
   "metadata": {},
   "source": [
    "The solutions to subproblems are stored in both Tabulated and Memoized formats. In the Memoized form, the table is filled on demand, whereas in the Tabulated version, all entries are entered one by one, starting with the first. Unlike the Tabulated version, the Memoized version does not require all lookup table entries to be filled. For example, the LCS problem's memorized solution does not always occupy all of the entries.\n",
    "\n",
    "(We will discuss more about LCS below)"
   ]
  },
  {
   "cell_type": "markdown",
   "id": "c50970c4",
   "metadata": {},
   "source": [
    "Now coming to the second property (Overlapping Subproblems)\n",
    "\n",
    "<blockquote>\n",
    "2) Optimal Substructure: A problem has the Optimal Substructure Property  if optimal solution of the given problem can be obtained by using optimal solutions of its subproblems. \n",
    "\n",
    "For example, the Shortest Path problem has following optimal substructure property: \n",
    "If a node x is on the shortest path between a source node u and a destination node v, the shortest path from u to v is a combination of the shortest paths from u to x and x to v. \n",
    "</blockquote>\n",
    "\n",
    "The standard All Pair Shortest Path algorithm like Floyd–Warshall and Single Source Shortest path algorithm for negative weight edges like Bellman–Ford are typical examples of Dynamic Programming. "
   ]
  },
  {
   "attachments": {},
   "cell_type": "markdown",
   "id": "0e09984d",
   "metadata": {},
   "source": [
    "The Optimal Substructure property is not present in the Longest Path problem, on the other hand. We use the term \"longest path\" to refer to the shortest simple path (path without a cycle) between two nodes. \n",
    "\n",
    "Consider the unweighted graph below from the CLRS book.  There are two longest paths from q to t: q→r→t and q→s→t. Unlike shortest paths, these longest paths do not have the optimal substructure property. For example, the longest path q→r→t is not a combination of longest path from q to r and longest path from r to t, because the longest path from q to r is q→s→t→r and the longest path from r to t is r→q→s→t.\n",
    "\n",
    "\n",
    "\n",
    "![image.png](img/unweighted_graph.png)\n",
    "\n",
    "\n",
    "\n",
    "Problems with optimal substructure:\n",
    "- Longest common subsequence problem\n",
    "- Longest increasing subsequence\n",
    "- Longest palindromic substring\n",
    "- All-Pairs Shortest Path\n",
    "***"
   ]
  },
  {
   "cell_type": "markdown",
   "id": "69f13224",
   "metadata": {},
   "source": [
    "<h2>Examples :- </h2>"
   ]
  },
  {
   "cell_type": "markdown",
   "id": "28fd5fa3",
   "metadata": {},
   "source": [
    "<h3>Longest Increasing Subsequence :- </h3>\n",
    "    \n",
    "\n",
    "We have seen about Overlapping Subproblems and Optimal Substructure Properties\n",
    "\n",
    "Now Let's have a look at the Longest Increasing Subsequence (LIS) problem as an example of a Dynamic Programming problem.\n",
    "\n",
    "The goal of the Longest Increasing Subsequence (LIS) problem is to determine the length of the longest subsequence of a given sequence that is sorted in increasing order. \n",
    "\n",
    "For example, the length of LIS for {10, 22, 9, 33, 21, 50, 41, 60, 80} is 6 and LIS is <b>{10, 22, 33, 50, 60, 80}</b>.\n"
   ]
  },
  {
   "attachments": {},
   "cell_type": "markdown",
   "id": "e2af43c2",
   "metadata": {},
   "source": [
    "![LIS](img/LIS_example.png)"
   ]
  },
  {
   "cell_type": "markdown",
   "id": "7b4c5259",
   "metadata": {},
   "source": [
    "Method 1: Recursion.\n",
    "Optimal Substructure: Let arr[0..n-1] be the input array and L(i) be the length of the LIS ending at index i such that arr[i] is the last element of the LIS.\n",
    "\n",
    "Then, L(i) can be recursively written as: \n",
    "\n",
    "<em>\n",
    "    L(i) = 1 + max( L(j) ) where 0 < j < i and arr[j] < arr[i];   or\n",
    "                                                               \n",
    "L(i) = 1, if no such j exists.\n",
    "</em>\n",
    "                                                               "
   ]
  },
  {
   "cell_type": "markdown",
   "id": "4a906b03",
   "metadata": {},
   "source": [
    "To find the LIS for a given array, we need to return max(L(i)) where 0 < i < n.\n",
    "Formally, the length of the longest increasing subsequence ending at index i, will be 1 greater than the maximum of lengths of all longest increasing subsequences ending at indices before i, where arr[j] < arr[i] (j < i).\n",
    "Thus, we see the LIS problem satisfies the optimal substructure property as the main problem can be solved using solutions to subproblems.\n",
    "\n",
    "The recursive tree given below will make the approach clearer:\n",
    "\n",
    "Input  : arr[] = {3, 10, 2, 11}\n",
    "f(i): Denotes LIS of subarray ending at index 'i'\n",
    "\n",
    "base case : (LIS(1)=1)\n",
    "\n",
    "If we want to Calculate LIS at Index 4:\n",
    "\n",
    "\n",
    "                                      f(4)  {f(4) = 1 + max(f(1), f(2), f(3))}\n",
    "                                  /    |    \\\n",
    "                                f(1)  f(2)  f(3) {f(3) = 1, f(2) and f(1) are > f(3)}\n",
    "                                       |      |  \\\n",
    "                                      f(1)  f(2)  f(1) {f(2) = 1 + max(f(1)}\n",
    "                                              |\n",
    "                                            f(1) {f(1) = 1}\n",
    "                                            \n",
    "Below is the implementation of the recursive approach: "
   ]
  },
  {
   "cell_type": "code",
   "execution_count": 5,
   "id": "898512da",
   "metadata": {},
   "outputs": [
    {
     "name": "stdout",
     "output_type": "stream",
     "text": [
      "Length of lis is  5\n"
     ]
    }
   ],
   "source": [
    "# A naive Python implementation of LIS problem\n",
    "\n",
    "\"\"\" To make use of recursive calls, this function must return\n",
    "two things:\n",
    "1) Length of LIS ending with element arr[n-1]. We use\n",
    "max_ending_here for this purpose\n",
    "2) Overall maximum as the LIS may end with an element\n",
    "before arr[n-1] max_ref is used this purpose.\n",
    "The value of LIS of full array of size n is stored in\n",
    "*max_ref which is our final result \"\"\"\n",
    "\n",
    "# global variable to store the maximum\n",
    "global maximum\n",
    "\n",
    "\n",
    "def _lis(arr, n):\n",
    "\n",
    "\t# to allow the access of global variable\n",
    "\tglobal maximum\n",
    "\n",
    "\t# Base Case\n",
    "\tif n == 1:\n",
    "\t\treturn 1\n",
    "\n",
    "\t# maxEndingHere is the length of LIS ending with arr[n-1]\n",
    "\tmaxEndingHere = 1\n",
    "\n",
    "\t\"\"\"Recursively get all LIS ending with arr[0], arr[1]..arr[n-2]\n",
    "\tIF arr[n-1] is smaller than arr[n-1], and max ending with\n",
    "\tarr[n-1] needs to be updated, then update it\"\"\"\n",
    "\tfor i in range(1, n):\n",
    "\t\tres = _lis(arr, i)\n",
    "\t\tif arr[i-1] < arr[n-1] and res+1 > maxEndingHere:\n",
    "\t\t\tmaxEndingHere = res + 1\n",
    "\n",
    "\t# Compare maxEndingHere with overall maximum. And\n",
    "\t# update the overall maximum if needed\n",
    "\tmaximum = max(maximum, maxEndingHere)\n",
    "\n",
    "\treturn maxEndingHere\n",
    "\n",
    "\n",
    "def lis(arr):\n",
    "\n",
    "\t# to allow the access of global variable\n",
    "\tglobal maximum\n",
    "\n",
    "\t# length of arr\n",
    "\tn = len(arr)\n",
    "\n",
    "\t# maximum variable holds the result\n",
    "\tmaximum = 1\n",
    "\n",
    "\t# The function _lis() stores its result in maximum\n",
    "\t_lis(arr, n)\n",
    "\n",
    "\treturn maximum\n",
    "\n",
    "\n",
    "# Driver program to test the above function\n",
    "arr = [10, 22, 9, 33, 21, 50, 41, 60]\n",
    "n = len(arr)\n",
    "print (\"Length of lis is \", lis(arr))\n",
    "\n",
    "# This code is contributed by NIKHIL KUMAR SINGH\n"
   ]
  },
  {
   "cell_type": "markdown",
   "id": "acbc81e5",
   "metadata": {},
   "source": [
    "Complexity Analysis: \n",
    "\n",
    "- Time Complexity: The time complexity of this recursive approach is exponential as there is a case of overlapping subproblems as explained in the recursive tree diagram above.\n",
    "\n",
    "- Auxiliary Space: O(1). No external space used for storing values apart from the internal stack space."
   ]
  },
  {
   "cell_type": "markdown",
   "id": "40e1cb2f",
   "metadata": {},
   "source": [
    "Method 2: Dynamic Programming.\n",
    "We can see that there are many subproblems in the above recursive solution which are solved again and again. So this problem has Overlapping Substructure property and recomputation of same subproblems can be avoided by either using Memoization or Tabulation.\n",
    "\n",
    "The simulation of approach will make things clear:   "
   ]
  },
  {
   "cell_type": "code",
   "execution_count": 6,
   "id": "9df7fd02",
   "metadata": {},
   "outputs": [
    {
     "name": "stdout",
     "output_type": "stream",
     "text": [
      "The length of the LIS is 6\n"
     ]
    }
   ],
   "source": [
    "# Iterative function to find the length of the longest increasing subsequence\n",
    "# of a given list\n",
    "def LIS(arr):\n",
    " \n",
    "    # base case\n",
    "    if not arr:\n",
    "        return 0\n",
    " \n",
    "    # list to store subproblem solutions. `L[i]` stores the length\n",
    "    # of the longest increasing subsequence that ends with `arr[i]`\n",
    "    L = [0] * len(arr)\n",
    " \n",
    "    # the longest increasing subsequence ending at `arr[0]` has length 1\n",
    "    L[0] = 1\n",
    " \n",
    "    # start from the second element in the list\n",
    "    for i in range(1, len(arr)):\n",
    "        # do for each element in sublist `arr[0…i-1]`\n",
    "        for j in range(i):\n",
    "            # find the longest increasing subsequence that ends with `arr[j]`\n",
    "            # where `arr[j]` is less than the current element `arr[i]`\n",
    "            if arr[j] < arr[i] and L[j] > L[i]:\n",
    "                L[i] = L[j]\n",
    " \n",
    "        # include `arr[i]` in LIS\n",
    "        L[i] = L[i] + 1\n",
    " \n",
    "    # return longest increasing subsequence (having maximum length)\n",
    "    return max(L)\n",
    " \n",
    " \n",
    "if __name__ == '__main__':\n",
    " \n",
    "    arr = [0, 8, 4, 12, 2, 10, 6, 14, 1, 9, 5, 13, 3, 11, 7, 15]\n",
    "    print('The length of the LIS is', LIS(arr))\n",
    "\n"
   ]
  },
  {
   "cell_type": "markdown",
   "id": "767242b1",
   "metadata": {},
   "source": [
    "If we print the LIS at each index we can see :\n",
    "\n",
    "LIS[0] — 0\n",
    "\n",
    "LIS[1] — 0 8\n",
    "\n",
    "LIS[2] — 0 4\n",
    "\n",
    "LIS[3] — 0 8 12\n",
    "\n",
    "LIS[4] — 0 2\n",
    "\n",
    "LIS[5] — 0 8 10\n",
    "\n",
    "LIS[6] — 0 4 6\n",
    "\n",
    "LIS[7] — 0 8 12 14\n",
    "\n",
    "LIS[8] — 0 1\n",
    "\n",
    "LIS[9] — 0 4 6 9\n",
    "\n",
    "LIS[10] — 0 4 5\n",
    "\n",
    "LIS[11] — 0 4 6 9 13\n",
    "\n",
    "LIS[12] — 0 2 3\n",
    "\n",
    "LIS[13] — 0 4 6 9 11\n",
    "\n",
    "LIS[14] — 0 4 6 7\n",
    "\n",
    "LIS[15] — 0 4 6 9 13 15"
   ]
  },
  {
   "cell_type": "markdown",
   "id": "7edcda12",
   "metadata": {},
   "source": [
    "Complexity Analysis: \n",
    "\n",
    "- Time Complexity: O(n2). \n",
    "As nested loop is used.\n",
    "- Auxiliary Space: O(n). \n",
    "Use of any array to store LIS values at each index.\n",
    "\n",
    "The time complexity of the above Dynamic Programming (DP) solution is O(n^2) and there is a O(N log N) solution for the LIS problem. We have not discussed the O(N log N) solution here as the purpose of this notebook is to explain Dynamic Programming with a simple example."
   ]
  },
  {
   "cell_type": "markdown",
   "id": "c01eedc1",
   "metadata": {},
   "source": [
    "***\n",
    "<h3>Longest Common Subsequence :- </h3>\n",
    "\n",
    "LCS Problem Statement: Given two sequences, find the length of longest subsequence present in both of them. A subsequence is a sequence that appears in the same relative order, but not necessarily contiguous. For example, “abc”, “abg”, “bdf”, “aeg”, ‘”acefg”, .. etc are subsequences of “abcdefg”. \n",
    "\n",
    "In order to find out the complexity of brute force approach, we need to first know the number of possible different subsequences of a string with length n, i.e., find the number of subsequences with lengths ranging from 1,2,..n-1. Recall from theory of permutation and combination that number of combinations with 1 element are nC1. Number of combinations with 2 elements are nC2 and so forth and so on. We know that nC0 + nC1 + nC2 + … nCn = 2n. So a string of length n has 2n-1 different possible subsequences since we do not consider the subsequence with length 0. This implies that the time complexity of the brute force approach will be O(n * 2n). Note that it takes O(n) time to check if a subsequence is common to both the strings. This time complexity can be improved using dynamic programming.\n",
    "\n",
    "It is a classic computer science problem, the basis of diff (a file comparison program that outputs the differences between two files), and has applications in bioinformatics.\n",
    "\n",
    "\n",
    "Examples: \n",
    "\n",
    "LCS for input Sequences “ABCDGH” and “AEDFHR” is “ADH” of length 3. \n",
    "\n",
    "LCS for input Sequences “AGGTAB” and “GXTXAYB” is “GTAB” of length 4. \n"
   ]
  },
  {
   "attachments": {},
   "cell_type": "markdown",
   "id": "36419cd8",
   "metadata": {},
   "source": [
    "The naive solution for this problem is to generate all subsequences of both given sequences and find the longest matching subsequence. This solution is exponential in term of time complexity. Let us see how this problem possesses both important properties of a Dynamic Programming (DP) Problem. \n",
    "\n",
    "1) Optimal Substructure: \n",
    "Let the input sequences be X[0..m-1] and Y[0..n-1] of lengths m and n respectively. And let L(X[0..m-1], Y[0..n-1]) be the length of LCS of the two sequences X and Y. Following is the recursive definition of L(X[0..m-1], Y[0..n-1]).\n",
    "\n",
    "If last characters of both sequences match (or X[m-1] == Y[n-1]) then \n",
    "L(X[0..m-1], Y[0..n-1]) = 1 + L(X[0..m-2], Y[0..n-2])\n",
    "\n",
    "If last characters of both sequences do not match (or X[m-1] != Y[n-1]) then \n",
    "L(X[0..m-1], Y[0..n-1]) = MAX ( L(X[0..m-2], Y[0..n-1]), L(X[0..m-1], Y[0..n-2]) )\n",
    "\n",
    "Examples: \n",
    "1) Consider the input strings “AGGTAB” and “GXTXAYB”. Last characters match for the strings. So length of LCS can be written as: \n",
    "\n",
    "L(“AGGTAB”, “GXTXAYB”) = 1 + L(“AGGTA”, “GXTXAY”) \n",
    "\n",
    "\n",
    "![LCS-optimal substructure](img/lcs_example.png)"
   ]
  },
  {
   "cell_type": "markdown",
   "id": "1c7a4989",
   "metadata": {},
   "source": [
    "Overlapping Subproblems: \n",
    "Following is simple recursive implementation of the LCS problem. The implementation simply follows the recursive structure mentioned above. "
   ]
  },
  {
   "cell_type": "code",
   "execution_count": 7,
   "id": "e386cbf6",
   "metadata": {},
   "outputs": [
    {
     "name": "stdout",
     "output_type": "stream",
     "text": [
      "Length of LCS is  4\n"
     ]
    }
   ],
   "source": [
    "# A Naive recursive Python implementation of LCS problem\n",
    "\n",
    "def lcs(X, Y, m, n):\n",
    "\n",
    "\tif m == 0 or n == 0:\n",
    "\t\treturn 0\n",
    "\telif X[m-1] == Y[n-1]:\n",
    "\t\treturn 1 + lcs(X, Y, m-1, n-1);\n",
    "\telse:\n",
    "\t\treturn max(lcs(X, Y, m, n-1), lcs(X, Y, m-1, n));\n",
    "\n",
    "\n",
    "# Driver program to test the above function\n",
    "X = \"AGGTAB\"\n",
    "Y = \"GXTXAYB\"\n",
    "print (\"Length of LCS is \", lcs(X , Y, len(X), len(Y)) )\n"
   ]
  },
  {
   "cell_type": "markdown",
   "id": "e2914bd4",
   "metadata": {},
   "source": [
    "Time complexity of the above naive recursive approach is O(2^n) in worst case and worst case happens when all characters of X and Y mismatch i.e., length of LCS is 0. \n",
    "\n",
    "Considering the above implementation, following is a partial recursion tree for input strings “AXYT” and “AYZX”\n",
    "\n",
    "                                              lcs(\"AXYT\", \"AYZX\")\n",
    "                                           /                 \n",
    "                             lcs(\"AXY\", \"AYZX\")            lcs(\"AXYT\", \"AYZ\")\n",
    "                             /                              /               \n",
    "                    lcs(\"AX\", \"AYZX\") lcs(\"AXY\", \"AYZ\")   lcs(\"AXY\", \"AYZ\") lcs(\"AXYT\", \"AY\")\n",
    "                    \n",
    "\n",
    "In the above partial recursion tree, lcs(“AXY”, “AYZ”) is being solved twice. If we draw the complete recursion tree, then we can see that there are many subproblems which are solved again and again. So this problem has Overlapping Substructure property and recomputation of same subproblems can be avoided by either using Memoization or Tabulation. \n",
    "\n",
    "Following is a Memoization implementation for the LCS problem. "
   ]
  },
  {
   "cell_type": "code",
   "execution_count": 8,
   "id": "5c3b331f",
   "metadata": {},
   "outputs": [
    {
     "name": "stdout",
     "output_type": "stream",
     "text": [
      "Length of LCS is 4\n"
     ]
    }
   ],
   "source": [
    "# A Top-Down DP implementation of LCS problem\n",
    "\n",
    "# Returns length of LCS for X[0..m-1], Y[0..n-1]\n",
    "def lcs(X, Y, m, n, dp):\n",
    "\n",
    "\tif (m == 0 or n == 0):\n",
    "\t\treturn 0\n",
    "\n",
    "\tif (dp[m][n] != -1):\n",
    "\t\treturn dp[m][n]\n",
    "\n",
    "\tif X[m - 1] == Y[n - 1]:\n",
    "\t\tdp[m][n] = 1 + lcs(X, Y, m - 1, n - 1, dp)\n",
    "\t\treturn dp[m][n]\n",
    "\n",
    "\tdp[m][n] = max(lcs(X, Y, m, n - 1, dp),lcs(X, Y, m - 1, n, dp))\n",
    "\treturn dp[m][n]\n",
    "\n",
    "# Driver code\n",
    "\n",
    "X = \"AGGTAB\"\n",
    "Y = \"GXTXAYB\"\n",
    "\n",
    "m = len(X)\n",
    "n = len(Y)\n",
    "dp = [[-1 for i in range(n + 1)]for j in range(m + 1)]\n",
    "\n",
    "print(f\"Length of LCS is {lcs(X, Y, m, n, dp)}\")\n",
    "\n",
    "# This code is contributed by shinjanpatra\n"
   ]
  },
  {
   "cell_type": "markdown",
   "id": "68df1d59",
   "metadata": {},
   "source": [
    "Time Complexity : O(mn) ignoring recursion stack space\n",
    "\n",
    "Following is a tabulated implementation for the LCS problem. "
   ]
  },
  {
   "cell_type": "code",
   "execution_count": 9,
   "id": "a95c5af9",
   "metadata": {},
   "outputs": [
    {
     "name": "stdout",
     "output_type": "stream",
     "text": [
      "Length of LCS is  4\n"
     ]
    }
   ],
   "source": [
    "# Dynamic Programming implementation of LCS problem\n",
    "\n",
    "def lcs(X , Y):\n",
    "\t# find the length of the strings\n",
    "\tm = len(X)\n",
    "\tn = len(Y)\n",
    "\n",
    "\t# declaring the array for storing the dp values\n",
    "\tL = [[None]*(n+1) for i in range(m+1)]\n",
    "\n",
    "\t\"\"\"Following steps build L[m+1][n+1] in bottom up fashion\n",
    "\tNote: L[i][j] contains length of LCS of X[0..i-1]\n",
    "\tand Y[0..j-1]\"\"\"\n",
    "\tfor i in range(m+1):\n",
    "\t\tfor j in range(n+1):\n",
    "\t\t\tif i == 0 or j == 0 :\n",
    "\t\t\t\tL[i][j] = 0\n",
    "\t\t\telif X[i-1] == Y[j-1]:\n",
    "\t\t\t\tL[i][j] = L[i-1][j-1]+1\n",
    "\t\t\telse:\n",
    "\t\t\t\tL[i][j] = max(L[i-1][j] , L[i][j-1])\n",
    "\n",
    "\t# L[m][n] contains the length of LCS of X[0..n-1] & Y[0..m-1]\n",
    "\treturn L[m][n]\n",
    "#end of function lcs\n",
    "\n",
    "\n",
    "# Driver program to test the above function\n",
    "X = \"AGGTAB\"\n",
    "Y = \"GXTXAYB\"\n",
    "print (\"Length of LCS is \", lcs(X, Y) )\n",
    "\n",
    "# This code is contributed by Nikhil Kumar Singh(nickzuck_007)\n"
   ]
  },
  {
   "cell_type": "markdown",
   "id": "00986105",
   "metadata": {},
   "source": [
    "Time Complexity of the above implementation is O(mn) which is much better than the worst-case time complexity of Naive Recursive implementation. \n",
    "\n",
    "***"
   ]
  },
  {
   "attachments": {},
   "cell_type": "markdown",
   "id": "608b3af3",
   "metadata": {},
   "source": [
    "<h3>0-1 Knapsack Problem :- </h3>\n",
    "\n",
    "Given weights and values of n items, put these items in a knapsack of capacity W to get the maximum total value in the knapsack. In other words, given two integer arrays val[0..n-1] and wt[0..n-1] which represent values and weights associated with n items respectively. Also given an integer W which represents knapsack capacity, find out the maximum value subset of val[] such that sum of the weights of this subset is smaller than or equal to W. You cannot break an item, either pick the complete item or don’t pick it (0-1 property).\n",
    "\n",
    "\n",
    "![0-1 knapsack](img/knapsack_example.png)"
   ]
  },
  {
   "cell_type": "markdown",
   "id": "c8c2ff7a",
   "metadata": {},
   "source": [
    "- To solve 0/1 knapsack using Dynamic Programming we construct a table with the following dimensions.\n",
    "\n",
    "        [n + 1][W + 1]\n",
    "\n",
    "- The rows of the table correspond to items from 0 to n.\n",
    "\n",
    "- The columns of the table correspond to weight limit from 0 to W.\n",
    "\n",
    "- The index of the very last cell of the table would be :\n",
    "\n",
    "        [n][W]\n",
    "        \n",
    "- Value of the cell with index [i][j] represents the maximum profit possible when considering items from 0 to i and the total weight limit as j.\n",
    "\n",
    "After filling the table our answer would be in the very last cell of the table."
   ]
  },
  {
   "cell_type": "markdown",
   "id": "05db0775",
   "metadata": {},
   "source": [
    "<h4>How to fill the table?</h4>\n",
    "\n",
    "Let’s start by setting the 0th row and column to 0. We do this because the 0th row means that we have no objects and the 0th column means that the maximum weight possible is 0.\n",
    "\n",
    "Now for each cell [i][j], we have two options :\n",
    "\n",
    "1. Either we include object [i] in our final selection.\n",
    "2. Or we don’t include object [i] in our final selection.\n",
    "How do we decide whether we include object [i] in our selection?\n",
    "\n",
    "There are two conditions that should be satisfied to include object [i] :\n",
    "\n",
    "1. The total weight after including object [i] should not exceed the weight limit.\n",
    "2. The profit after including object [i] should be greater as compared to when the object is not included.\n",
    "\n",
    "Let’s convert our understanding of 0/1 knapsack into python code.\n"
   ]
  },
  {
   "cell_type": "code",
   "execution_count": 11,
   "id": "8b58ce7d",
   "metadata": {},
   "outputs": [
    {
     "name": "stdout",
     "output_type": "stream",
     "text": [
      "105\n"
     ]
    }
   ],
   "source": [
    "def knapSack(W, wt, val): \n",
    "    n=len(val)\n",
    "    table = [[0 for x in range(W + 1)] for x in range(n + 1)] \n",
    " \n",
    "    for i in range(n + 1): \n",
    "        for j in range(W + 1): \n",
    "            if i == 0 or j == 0: \n",
    "                table[i][j] = 0\n",
    "            elif wt[i-1] <= j: \n",
    "                table[i][j] = max(val[i-1]  + table[i-1][j-wt[i-1]],  table[i-1][j]) \n",
    "            else: \n",
    "                table[i][j] = table[i-1][j] \n",
    "   \n",
    "    return table[n][W] \n",
    " \n",
    "Value = [25,20,15,40,50]\n",
    "weight = [3,2,1,4,5]\n",
    "W = 10\n",
    " \n",
    "print(knapSack(W, weight, Value))"
   ]
  },
  {
   "cell_type": "markdown",
   "id": "86fb8dc1",
   "metadata": {},
   "source": [
    "***\n",
    "<h3>In conclusion how to approach/Solve a Dynamic Programming Problem</h3>\n",
    "\n",
    "    \n",
    "1. Recognize a DP problem\n",
    "2. Identify problem variables\n",
    "3. Clearly express the recurrence relation\n",
    "4. Identify the base cases\n",
    "5. Decide if you want to implement it iteratively or recursively\n",
    "6. Add memoization\n",
    "7. Determine time complexity\n"
   ]
  },
  {
   "cell_type": "markdown",
   "id": "a3c3c202",
   "metadata": {},
   "source": [
    "References:\n",
    "\n",
    "https://www.freecodecamp.org/news/demystifying-dynamic-programming-3efafb8d4296/\n",
    "\n",
    "https://www.geeksforgeeks.org/\n",
    "\n",
    "https://www.hackerearth.com/practice/algorithms/dynamic-programming/introduction-to-dynamic-programming-1/tutorial/\n",
    "\n",
    "https://www.techiedelight.com/longest-increasing-subsequence/"
   ]
  }
 ],
 "metadata": {
  "kernelspec": {
   "display_name": "Python 3 (ipykernel)",
   "language": "python",
   "name": "python3"
  },
  "language_info": {
   "codemirror_mode": {
    "name": "ipython",
    "version": 3
   },
   "file_extension": ".py",
   "mimetype": "text/x-python",
   "name": "python",
   "nbconvert_exporter": "python",
   "pygments_lexer": "ipython3",
   "version": "3.9.2"
  }
 },
 "nbformat": 4,
 "nbformat_minor": 5
}
